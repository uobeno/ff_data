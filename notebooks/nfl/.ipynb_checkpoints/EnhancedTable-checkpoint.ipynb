{
 "cells": [
  {
   "cell_type": "markdown",
   "id": "1ac83d8b-59de-4e3e-ba48-2d3031084e20",
   "metadata": {},
   "source": [
    "# Enhanced Table\n",
    "Let's keep a record of all of the features that we add in the other noteboks that would be useful to have in a consolidated table."
   ]
  },
  {
   "cell_type": "code",
   "execution_count": 1,
   "id": "f255b15c-1ce9-4d0f-aa14-2a7434f20c59",
   "metadata": {},
   "outputs": [],
   "source": [
    "import os\n",
    "from pathlib import Path\n",
    "from sqlalchemy import create_engine"
   ]
  },
  {
   "cell_type": "code",
   "execution_count": 18,
   "id": "f91d79da-936f-48e6-a156-77fab82e9844",
   "metadata": {},
   "outputs": [],
   "source": [
    "# Define your database file path (SQLite example)\n",
    "rel_db_path = Path.cwd().parent.parent / 'raw_data' / 'nfl' / 'src_code' / 'nfl.db'\n",
    "db_file_path = rel_db_path.resolve()\n",
    "engine = create_engine(f'sqlite:///{db_file_path}')"
   ]
  },
  {
   "cell_type": "code",
   "execution_count": 21,
   "id": "21ec7604-2830-4cf3-a742-f16118428eb4",
   "metadata": {},
   "outputs": [
    {
     "name": "stdout",
     "output_type": "stream",
     "text": [
      "The sql extension is already loaded. To reload it, use:\n",
      "  %reload_ext sql\n"
     ]
    }
   ],
   "source": [
    "%load_ext sql"
   ]
  },
  {
   "cell_type": "code",
   "execution_count": 22,
   "id": "fc528059-5c98-4997-8b08-3d503e0dadac",
   "metadata": {},
   "outputs": [],
   "source": [
    "%sql sqlite:///{db_file_path}"
   ]
  },
  {
   "cell_type": "markdown",
   "id": "1765b0d9-08ba-4f61-85c2-0cbc4e34e575",
   "metadata": {},
   "source": [
    "cleaning and prep\n",
    "- cleaned name: REPLACE(REPLACE(player,'*',''),'+','') AS cleaned_player\n",
    "- pro bowl status: IIF(INSTR(player, '*') > 0, 'true', 'false') AS pro_bowl\n",
    "- all pro status: IIF(INSTR(player, '+') > 0, 'true', 'false') AS all_pro\n",
    "\n",
    "per game stats\n",
    "- fantasy points per game: ROUND(fantasy_points / g) AS fppg,\n",
    "- fantasy points per game STARTED: ROUND(fantasy_points / gs) AS fppgs,\n",
    "- percent of games played: ROUND(g / (IIF(year >= 2021, 17, 16)*1.00),2) AS pgp"
   ]
  },
  {
   "cell_type": "code",
   "execution_count": null,
   "id": "a4932cc1-16b1-42f5-84fe-5a41c40378a6",
   "metadata": {},
   "outputs": [],
   "source": []
  }
 ],
 "metadata": {
  "kernelspec": {
   "display_name": "Python 3 (ipykernel)",
   "language": "python",
   "name": "python3"
  },
  "language_info": {
   "codemirror_mode": {
    "name": "ipython",
    "version": 3
   },
   "file_extension": ".py",
   "mimetype": "text/x-python",
   "name": "python",
   "nbconvert_exporter": "python",
   "pygments_lexer": "ipython3",
   "version": "3.9.6"
  }
 },
 "nbformat": 4,
 "nbformat_minor": 5
}
