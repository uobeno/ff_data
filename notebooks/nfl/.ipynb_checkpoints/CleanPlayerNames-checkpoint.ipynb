{
 "cells": [
  {
   "cell_type": "markdown",
   "id": "1ac83d8b-59de-4e3e-ba48-2d3031084e20",
   "metadata": {},
   "source": [
    "# Clean player names\n",
    "The player names that we're working with had special characters.\n",
    "Let's parse out the information from that column"
   ]
  },
  {
   "cell_type": "code",
   "execution_count": 4,
   "id": "f255b15c-1ce9-4d0f-aa14-2a7434f20c59",
   "metadata": {},
   "outputs": [],
   "source": [
    "import os\n",
    "from pathlib import Path\n",
    "from sqlalchemy import create_engine"
   ]
  },
  {
   "cell_type": "code",
   "execution_count": 5,
   "id": "f91d79da-936f-48e6-a156-77fab82e9844",
   "metadata": {},
   "outputs": [],
   "source": [
    "# Define your database file path (SQLite example)\n",
    "rel_db_path = Path.cwd().parent.parent / 'raw_data' / 'nfl' / 'src_code' / 'nfl.db'\n",
    "db_file_path = rel_db_path.resolve()\n",
    "engine = create_engine(f'sqlite:///{db_file_path}')"
   ]
  },
  {
   "cell_type": "code",
   "execution_count": 6,
   "id": "21ec7604-2830-4cf3-a742-f16118428eb4",
   "metadata": {},
   "outputs": [],
   "source": [
    "%load_ext sql"
   ]
  },
  {
   "cell_type": "code",
   "execution_count": 7,
   "id": "fc528059-5c98-4997-8b08-3d503e0dadac",
   "metadata": {},
   "outputs": [],
   "source": [
    "%sql sqlite:///{db_file_path}"
   ]
  },
  {
   "cell_type": "code",
   "execution_count": 8,
   "id": "45aab5b1-a706-4e7e-bec8-4ef448f82ac5",
   "metadata": {
    "scrolled": true
   },
   "outputs": [
    {
     "name": "stdout",
     "output_type": "stream",
     "text": [
      " * sqlite:////Users/beoconno/Documents/ff/ff_data/raw_data/nfl/src_code/nfl.db\n",
      "Done.\n"
     ]
    },
    {
     "data": {
      "text/html": [
       "<table>\n",
       "    <thead>\n",
       "        <tr>\n",
       "            <th>player</th>\n",
       "            <th>cleaned_player</th>\n",
       "            <th>pro_bowl</th>\n",
       "            <th>all_pro</th>\n",
       "        </tr>\n",
       "    </thead>\n",
       "    <tbody>\n",
       "        <tr>\n",
       "            <td>David Johnson*+</td>\n",
       "            <td>David Johnson</td>\n",
       "            <td>true</td>\n",
       "            <td>true</td>\n",
       "        </tr>\n",
       "        <tr>\n",
       "            <td>Ezekiel Elliott*+</td>\n",
       "            <td>Ezekiel Elliott</td>\n",
       "            <td>true</td>\n",
       "            <td>true</td>\n",
       "        </tr>\n",
       "        <tr>\n",
       "            <td>Aaron Rodgers*</td>\n",
       "            <td>Aaron Rodgers</td>\n",
       "            <td>true</td>\n",
       "            <td>false</td>\n",
       "        </tr>\n",
       "        <tr>\n",
       "            <td>LeSean McCoy*</td>\n",
       "            <td>LeSean McCoy</td>\n",
       "            <td>true</td>\n",
       "            <td>false</td>\n",
       "        </tr>\n",
       "        <tr>\n",
       "            <td>Le&#x27;Veon Bell*</td>\n",
       "            <td>Le&#x27;Veon Bell</td>\n",
       "            <td>true</td>\n",
       "            <td>false</td>\n",
       "        </tr>\n",
       "        <tr>\n",
       "            <td>DeMarco Murray*</td>\n",
       "            <td>DeMarco Murray</td>\n",
       "            <td>true</td>\n",
       "            <td>false</td>\n",
       "        </tr>\n",
       "        <tr>\n",
       "            <td>Devonta Freeman*</td>\n",
       "            <td>Devonta Freeman</td>\n",
       "            <td>true</td>\n",
       "            <td>false</td>\n",
       "        </tr>\n",
       "        <tr>\n",
       "            <td>LeGarrette Blount</td>\n",
       "            <td>LeGarrette Blount</td>\n",
       "            <td>false</td>\n",
       "            <td>false</td>\n",
       "        </tr>\n",
       "        <tr>\n",
       "            <td>Matt Ryan*+</td>\n",
       "            <td>Matt Ryan</td>\n",
       "            <td>true</td>\n",
       "            <td>true</td>\n",
       "        </tr>\n",
       "        <tr>\n",
       "            <td>Mike Evans*</td>\n",
       "            <td>Mike Evans</td>\n",
       "            <td>true</td>\n",
       "            <td>false</td>\n",
       "        </tr>\n",
       "    </tbody>\n",
       "</table>"
      ],
      "text/plain": [
       "[('David Johnson*+', 'David Johnson', 'true', 'true'),\n",
       " ('Ezekiel Elliott*+', 'Ezekiel Elliott', 'true', 'true'),\n",
       " ('Aaron Rodgers*', 'Aaron Rodgers', 'true', 'false'),\n",
       " ('LeSean McCoy*', 'LeSean McCoy', 'true', 'false'),\n",
       " (\"Le'Veon Bell*\", \"Le'Veon Bell\", 'true', 'false'),\n",
       " ('DeMarco Murray*', 'DeMarco Murray', 'true', 'false'),\n",
       " ('Devonta Freeman*', 'Devonta Freeman', 'true', 'false'),\n",
       " ('LeGarrette Blount', 'LeGarrette Blount', 'false', 'false'),\n",
       " ('Matt Ryan*+', 'Matt Ryan', 'true', 'true'),\n",
       " ('Mike Evans*', 'Mike Evans', 'true', 'false')]"
      ]
     },
     "execution_count": 8,
     "metadata": {},
     "output_type": "execute_result"
    }
   ],
   "source": [
    "%%sql\n",
    "SELECT\n",
    "    player,\n",
    "    REPLACE(REPLACE(player,'*',''),'+','') AS cleaned_player,\n",
    "    IIF(INSTR(player, '*') > 0, 'true', 'false') AS pro_bowl,\n",
    "    IIF(INSTR(player, '+') > 0, 'true', 'false') AS all_pro\n",
    "FROM nfl_results\n",
    "LIMIT 10"
   ]
  }
 ],
 "metadata": {
  "kernelspec": {
   "display_name": "Python 3 (ipykernel)",
   "language": "python",
   "name": "python3"
  },
  "language_info": {
   "codemirror_mode": {
    "name": "ipython",
    "version": 3
   },
   "file_extension": ".py",
   "mimetype": "text/x-python",
   "name": "python",
   "nbconvert_exporter": "python",
   "pygments_lexer": "ipython3",
   "version": "3.9.6"
  }
 },
 "nbformat": 4,
 "nbformat_minor": 5
}
